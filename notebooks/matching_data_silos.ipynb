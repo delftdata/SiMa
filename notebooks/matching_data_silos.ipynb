{
 "cells": [
  {
   "cell_type": "markdown",
   "metadata": {},
   "source": [
    "# Import packages"
   ]
  },
  {
   "cell_type": "code",
   "execution_count": 1,
   "metadata": {
    "ExecuteTime": {
     "end_time": "2023-06-02T15:18:20.676548Z",
     "start_time": "2023-06-02T15:18:15.793997Z"
    },
    "run_control": {
     "marked": false
    }
   },
   "outputs": [
    {
     "name": "stderr",
     "output_type": "stream",
     "text": [
      "Using backend: pytorch\n"
     ]
    }
   ],
   "source": [
    "import sys\n",
    "sys.path.append('../src/')\n",
    "from tools import get_coma_results, get_starmie_vectors, generate_ids_paths, columns_to_profiles, create_profiles_tensor, create_configuration\n",
    "from graph import create_relatedness_graphs_from_silos\n",
    "from train import negative_sampling_3\n",
    "from train import train_model\n",
    "from train import compute_all_probs_labels, compute_probabilities_labels, compute_starmie_probs_labels\n",
    "from train import metrics\n",
    "import pandas as pd\n",
    "from sklearn.metrics import precision_recall_curve\n",
    "\n",
    "import torch\n",
    "import pickle\n",
    "import numpy as np\n",
    "import re\n",
    "import matplotlib.pyplot as plt"
   ]
  },
  {
   "cell_type": "markdown",
   "metadata": {},
   "source": [
    "# Dataset preperation and profiling"
   ]
  },
  {
   "cell_type": "code",
   "execution_count": 2,
   "metadata": {
    "ExecuteTime": {
     "end_time": "2023-06-02T15:18:22.196051Z",
     "start_time": "2023-06-02T15:18:22.100085Z"
    }
   },
   "outputs": [],
   "source": [
    "path_to_datasets =\"../datasets/ladata_silos/\"\n",
    "cols_to_ids, files_to_paths = generate_ids_paths(path_to_datasets)"
   ]
  },
  {
   "cell_type": "markdown",
   "metadata": {},
   "source": [
    "## Profiling"
   ]
  },
  {
   "cell_type": "markdown",
   "metadata": {},
   "source": [
    "### If not pre-computed"
   ]
  },
  {
   "cell_type": "code",
   "execution_count": null,
   "metadata": {},
   "outputs": [],
   "source": [
    "cols_profiles = columns_to_profiles(files_to_paths)  # run this if profiles have not been pre-computed"
   ]
  },
  {
   "cell_type": "markdown",
   "metadata": {},
   "source": [
    "### If pre-computed"
   ]
  },
  {
   "cell_type": "code",
   "execution_count": 3,
   "metadata": {
    "ExecuteTime": {
     "end_time": "2023-06-02T15:18:26.565563Z",
     "start_time": "2023-06-02T15:18:26.232214Z"
    }
   },
   "outputs": [],
   "source": [
    "profiles_file = '../profiles/ladata_profiles.pickle'\n",
    "with open(profiles_file, 'rb') as file:\n",
    "    cols_profiles= pickle.load(file)"
   ]
  },
  {
   "cell_type": "code",
   "execution_count": 4,
   "metadata": {
    "ExecuteTime": {
     "end_time": "2023-06-02T15:18:26.966098Z",
     "start_time": "2023-06-02T15:18:26.951027Z"
    }
   },
   "outputs": [],
   "source": [
    "profiles_tensor = create_profiles_tensor(cols_profiles, cols_to_ids)"
   ]
  },
  {
   "cell_type": "markdown",
   "metadata": {},
   "source": [
    "# Construct relatedness graphs"
   ]
  },
  {
   "cell_type": "markdown",
   "metadata": {},
   "source": [
    "## Configure silos"
   ]
  },
  {
   "cell_type": "markdown",
   "metadata": {},
   "source": [
    "### Compute random configuration"
   ]
  },
  {
   "cell_type": "code",
   "execution_count": null,
   "metadata": {},
   "outputs": [],
   "source": [
    "silo_configuration = create_configuration(cols_to_ids, 2, 2, 5, 'random') # construct 5 silos where we sample exactly 2 datasets per base table (base tables selected randomly)"
   ]
  },
  {
   "cell_type": "markdown",
   "metadata": {},
   "source": [
    "### Load configuration from paper"
   ]
  },
  {
   "cell_type": "code",
   "execution_count": 5,
   "metadata": {
    "ExecuteTime": {
     "end_time": "2023-06-02T15:18:45.460817Z",
     "start_time": "2023-06-02T15:18:45.455808Z"
    }
   },
   "outputs": [],
   "source": [
    "configuration_file = '../configurations/la_silos.pickle'\n",
    "with open(configuration_file, 'rb') as file:\n",
    "    silo_configuration = pickle.load(file)"
   ]
  },
  {
   "cell_type": "markdown",
   "metadata": {},
   "source": [
    "## Load ground truth of matches"
   ]
  },
  {
   "cell_type": "code",
   "execution_count": 6,
   "metadata": {
    "ExecuteTime": {
     "end_time": "2023-06-02T15:18:47.723227Z",
     "start_time": "2023-06-02T15:18:47.702735Z"
    }
   },
   "outputs": [],
   "source": [
    "matches_file = '../ground_truth/matches_ladata.csv'\n",
    "matches_df = pd.read_csv(matches_file)\n",
    "\n",
    "ground_truth = []\n",
    "for index, row in matches_df.iterrows():\n",
    "    ground_truth.append(((row['Dataset-1'][:-4], row['Column-1']), (row['Dataset-2'][:-4], row['Column-2'])))"
   ]
  },
  {
   "cell_type": "markdown",
   "metadata": {},
   "source": [
    "## Construct relatedness graphs"
   ]
  },
  {
   "cell_type": "code",
   "execution_count": 7,
   "metadata": {
    "ExecuteTime": {
     "end_time": "2023-06-02T15:18:52.363383Z",
     "start_time": "2023-06-02T15:18:50.008578Z"
    }
   },
   "outputs": [],
   "source": [
    "graphs, all_columns, all_cols_ids, all_ids_cols = create_relatedness_graphs_from_silos(cols_to_ids, profiles_tensor.tolist(), ground_truth, silo_configuration)"
   ]
  },
  {
   "cell_type": "markdown",
   "metadata": {},
   "source": [
    "## Get negative samples from all relatedness graphs"
   ]
  },
  {
   "cell_type": "code",
   "execution_count": 8,
   "metadata": {
    "ExecuteTime": {
     "end_time": "2023-06-02T15:18:55.665791Z",
     "start_time": "2023-06-02T15:18:53.225700Z"
    }
   },
   "outputs": [],
   "source": [
    "graphs_neg = dict()\n",
    "\n",
    "for i in range(len(graphs)):\n",
    "    graphs_neg[i] = negative_sampling_3(graphs[i]) # use negative sampling strategy #3 from the paper"
   ]
  },
  {
   "cell_type": "markdown",
   "metadata": {},
   "source": [
    "# Train model"
   ]
  },
  {
   "cell_type": "code",
   "execution_count": 9,
   "metadata": {
    "ExecuteTime": {
     "end_time": "2023-06-02T15:20:27.744750Z",
     "start_time": "2023-06-02T15:18:57.635305Z"
    }
   },
   "outputs": [
    {
     "name": "stdout",
     "output_type": "stream",
     "text": [
      "In epoch 0, loss 1.255948781967163, f1 0.407229483127594\n",
      "In epoch 0, loss 0.8820712566375732, f1 0.891391396522522\n",
      "In epoch 0, loss 0.5908398032188416, f1 0.8271400332450867\n",
      "In epoch 0, loss 0.2230721414089203, f1 0.9357069730758667\n",
      "In epoch 0, loss 0.08320332318544388, f1 0.9800296425819397\n",
      "In epoch 0, loss 0.02463681437075138, f1 0.9963333010673523\n",
      "In epoch 0, loss 0.06472212076187134, f1 0.9896312952041626\n",
      "In epoch 0, loss 0.033498361706733704, f1 0.995550811290741\n",
      "In epoch 0, loss 0.01621098816394806, f1 0.998602569103241\n",
      "In epoch 0, loss 0.017087353393435478, f1 0.9983734488487244\n"
     ]
    }
   ],
   "source": [
    "model = train_model(graphs, graphs_neg, 10, 256, incremental= True) # train incrementally for 10 epochs per relatedness graph"
   ]
  },
  {
   "cell_type": "markdown",
   "metadata": {},
   "source": [
    "## Embed all nodes based on the trained model"
   ]
  },
  {
   "cell_type": "code",
   "execution_count": 10,
   "metadata": {
    "ExecuteTime": {
     "end_time": "2023-06-02T15:20:31.532819Z",
     "start_time": "2023-06-02T15:20:31.446081Z"
    }
   },
   "outputs": [],
   "source": [
    "embeddings = dict()\n",
    "\n",
    "for j in range(len(graphs)):\n",
    "\n",
    "    embeddings[j] = model.gnn(graphs[j], graphs[j].ndata['feat']).detach()"
   ]
  },
  {
   "cell_type": "markdown",
   "metadata": {},
   "source": [
    "## Compute precision and recall values for different thresholds"
   ]
  },
  {
   "cell_type": "code",
   "execution_count": 11,
   "metadata": {
    "ExecuteTime": {
     "end_time": "2023-06-02T15:21:26.682899Z",
     "start_time": "2023-06-02T15:20:34.230833Z"
    },
    "scrolled": false
   },
   "outputs": [
    {
     "name": "stdout",
     "output_type": "stream",
     "text": [
      "Computing between graphs: 0 - 1\n",
      "Computing between graphs: 0 - 2\n",
      "Computing between graphs: 0 - 3\n",
      "Computing between graphs: 0 - 4\n",
      "Computing between graphs: 0 - 5\n",
      "Computing between graphs: 0 - 6\n",
      "Computing between graphs: 0 - 7\n",
      "Computing between graphs: 0 - 8\n",
      "Computing between graphs: 0 - 9\n",
      "Computing between graphs: 1 - 2\n",
      "Computing between graphs: 1 - 3\n",
      "Computing between graphs: 1 - 4\n",
      "Computing between graphs: 1 - 5\n",
      "Computing between graphs: 1 - 6\n",
      "Computing between graphs: 1 - 7\n",
      "Computing between graphs: 1 - 8\n",
      "Computing between graphs: 1 - 9\n",
      "Computing between graphs: 2 - 3\n",
      "Computing between graphs: 2 - 4\n",
      "Computing between graphs: 2 - 5\n",
      "Computing between graphs: 2 - 6\n",
      "Computing between graphs: 2 - 7\n",
      "Computing between graphs: 2 - 8\n",
      "Computing between graphs: 2 - 9\n",
      "Computing between graphs: 3 - 4\n",
      "Computing between graphs: 3 - 5\n",
      "Computing between graphs: 3 - 6\n",
      "Computing between graphs: 3 - 7\n",
      "Computing between graphs: 3 - 8\n",
      "Computing between graphs: 3 - 9\n",
      "Computing between graphs: 4 - 5\n",
      "Computing between graphs: 4 - 6\n",
      "Computing between graphs: 4 - 7\n",
      "Computing between graphs: 4 - 8\n",
      "Computing between graphs: 4 - 9\n",
      "Computing between graphs: 5 - 6\n",
      "Computing between graphs: 5 - 7\n",
      "Computing between graphs: 5 - 8\n",
      "Computing between graphs: 5 - 9\n",
      "Computing between graphs: 6 - 7\n",
      "Computing between graphs: 6 - 8\n",
      "Computing between graphs: 6 - 9\n",
      "Computing between graphs: 7 - 8\n",
      "Computing between graphs: 7 - 9\n",
      "Computing between graphs: 8 - 9\n"
     ]
    }
   ],
   "source": [
    "probabilities_sima, labels_sima, complete_results_sima = compute_all_probs_labels(all_columns, all_cols_ids, embeddings, ground_truth, model, len(graphs))\n",
    "precision_sima, recall_sima, thresholds_sima = precision_recall_curve(probabilities_sima, labels_sima)    "
   ]
  },
  {
   "cell_type": "markdown",
   "metadata": {},
   "source": [
    "# Load COMA results"
   ]
  },
  {
   "cell_type": "code",
   "execution_count": 12,
   "metadata": {
    "ExecuteTime": {
     "end_time": "2023-06-02T15:26:24.873362Z",
     "start_time": "2023-06-02T15:25:50.601607Z"
    }
   },
   "outputs": [],
   "source": [
    "coma_results_file = '../coma_results/ladata_coma_results.json'\n",
    "coma_results = get_coma_results(coma_results_file, all_cols_ids, {(c1, c2) for c1,c2,_ in complete_results_sima})"
   ]
  },
  {
   "cell_type": "markdown",
   "metadata": {},
   "source": [
    "## Compute precision and recall values for different thresholds"
   ]
  },
  {
   "cell_type": "code",
   "execution_count": 13,
   "metadata": {
    "ExecuteTime": {
     "end_time": "2023-06-02T15:27:55.094639Z",
     "start_time": "2023-06-02T15:27:38.334323Z"
    }
   },
   "outputs": [],
   "source": [
    "labels_coma, probabilities_coma = compute_probabilities_labels(coma_results, ground_truth)\n",
    "precision_coma, recall_coma, thresholds_coma = precision_recall_curve(labels_coma, probabilities_coma)"
   ]
  },
  {
   "cell_type": "markdown",
   "metadata": {},
   "source": [
    "# Load Starmie results"
   ]
  },
  {
   "cell_type": "markdown",
   "metadata": {},
   "source": [
    "## Load Starmie column vectors"
   ]
  },
  {
   "cell_type": "code",
   "execution_count": 14,
   "metadata": {
    "ExecuteTime": {
     "end_time": "2023-06-02T15:28:13.059552Z",
     "start_time": "2023-06-02T15:28:08.726122Z"
    }
   },
   "outputs": [],
   "source": [
    "embeddings_path = '../starmie_vectors/starmie_vectors_ladata.pkl'\n",
    "vectors = get_starmie_vectors(path_to_datasets, embeddings_path)"
   ]
  },
  {
   "cell_type": "markdown",
   "metadata": {},
   "source": [
    "## Compute precision and recall values for different thresholds"
   ]
  },
  {
   "cell_type": "code",
   "execution_count": 15,
   "metadata": {
    "ExecuteTime": {
     "end_time": "2023-06-02T15:29:11.755740Z",
     "start_time": "2023-06-02T15:28:17.316587Z"
    },
    "scrolled": true
   },
   "outputs": [
    {
     "name": "stdout",
     "output_type": "stream",
     "text": [
      "Computing between graphs: 0 - 1\n",
      "Computing between graphs: 0 - 2\n",
      "Computing between graphs: 0 - 3\n",
      "Computing between graphs: 0 - 4\n",
      "Computing between graphs: 0 - 5\n",
      "Computing between graphs: 0 - 6\n",
      "Computing between graphs: 0 - 7\n",
      "Computing between graphs: 0 - 8\n",
      "Computing between graphs: 0 - 9\n",
      "Computing between graphs: 1 - 2\n",
      "Computing between graphs: 1 - 3\n",
      "Computing between graphs: 1 - 4\n",
      "Computing between graphs: 1 - 5\n",
      "Computing between graphs: 1 - 6\n",
      "Computing between graphs: 1 - 7\n",
      "Computing between graphs: 1 - 8\n",
      "Computing between graphs: 1 - 9\n",
      "Computing between graphs: 2 - 3\n",
      "Computing between graphs: 2 - 4\n",
      "Computing between graphs: 2 - 5\n",
      "Computing between graphs: 2 - 6\n",
      "Computing between graphs: 2 - 7\n",
      "Computing between graphs: 2 - 8\n",
      "Computing between graphs: 2 - 9\n",
      "Computing between graphs: 3 - 4\n",
      "Computing between graphs: 3 - 5\n",
      "Computing between graphs: 3 - 6\n",
      "Computing between graphs: 3 - 7\n",
      "Computing between graphs: 3 - 8\n",
      "Computing between graphs: 3 - 9\n",
      "Computing between graphs: 4 - 5\n",
      "Computing between graphs: 4 - 6\n",
      "Computing between graphs: 4 - 7\n",
      "Computing between graphs: 4 - 8\n",
      "Computing between graphs: 4 - 9\n",
      "Computing between graphs: 5 - 6\n",
      "Computing between graphs: 5 - 7\n",
      "Computing between graphs: 5 - 8\n",
      "Computing between graphs: 5 - 9\n",
      "Computing between graphs: 6 - 7\n",
      "Computing between graphs: 6 - 8\n",
      "Computing between graphs: 6 - 9\n",
      "Computing between graphs: 7 - 8\n",
      "Computing between graphs: 7 - 9\n",
      "Computing between graphs: 8 - 9\n"
     ]
    }
   ],
   "source": [
    "probabilities_starmie, labels_starmie = compute_starmie_probs_labels(all_columns, vectors, ground_truth, len(graphs))\n",
    "precision_starmie, recall_starmie, thresholds_starmie = precision_recall_curve(probabilities_starmie, labels_starmie) "
   ]
  },
  {
   "cell_type": "markdown",
   "metadata": {},
   "source": [
    "# Plot results"
   ]
  },
  {
   "cell_type": "code",
   "execution_count": 16,
   "metadata": {
    "ExecuteTime": {
     "end_time": "2023-06-02T15:29:22.791071Z",
     "start_time": "2023-06-02T15:29:21.786081Z"
    }
   },
   "outputs": [
    {
     "data": {
      "image/png": "[encoded data removed]",
      "text/plain": [
       "<Figure size 432x288 with 1 Axes>"
      ]
     },
     "metadata": {
      "needs_background": "light"
     },
     "output_type": "display_data"
    }
   ],
   "source": [
    "fig, ax = plt.subplots()\n",
    "\n",
    "ax.plot(recall_sima, precision_sima, color='blue')\n",
    "\n",
    "ax.plot(recall_coma, precision_coma, color = 'grey', linestyle='dotted')\n",
    "\n",
    "ax.plot(recall_starmie, precision_starmie, color = 'red', linestyle='dashdot')\n",
    "\n",
    "plt.legend([\"SiMa\", \"COMA\", \"Starmie\"], loc=0, frameon=True)\n",
    "\n",
    "#add axis labels to plot\n",
    "ax.set_title('LA OpenData')\n",
    "ax.set_ylabel('Precision')\n",
    "ax.set_xlabel('Recall')\n",
    "\n",
    "#display plot\n",
    "plt.grid()\n",
    "plt.show()"
   ]
  }
 ],
 "metadata": {
  "kernelspec": {
   "display_name": "Python 3",
   "language": "python",
   "name": "python3"
  },
  "language_info": {
   "codemirror_mode": {
    "name": "ipython",
    "version": 3
   },
   "file_extension": ".py",
   "mimetype": "text/x-python",
   "name": "python",
   "nbconvert_exporter": "python",
   "pygments_lexer": "ipython3",
   "version": "3.7.4"
  },
  "toc": {
   "base_numbering": 1,
   "nav_menu": {},
   "number_sections": true,
   "sideBar": true,
   "skip_h1_title": false,
   "title_cell": "Table of Contents",
   "title_sidebar": "Contents",
   "toc_cell": false,
   "toc_position": {},
   "toc_section_display": true,
   "toc_window_display": false
  }
 },
 "nbformat": 4,
 "nbformat_minor": 2
}
